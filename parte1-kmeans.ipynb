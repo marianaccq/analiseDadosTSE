{
 "cells": [
  {
   "cell_type": "markdown",
   "metadata": {},
   "source": [
    "# Clustering Categorical Data "
   ]
  },
  {
   "cell_type": "markdown",
   "metadata": {},
   "source": [
    "You are given much more country data. Using the same methodology as the one in the lecture, group all the countries in 2 clusters. \n",
    "\n",
    "<b> Already done that? Okay! </b>\n",
    "    \n",
    "There are other features: name and continent. \n",
    "\n",
    "Encode the continent one and use it in the clustering solution. Think about the difference with the previous exercise."
   ]
  },
  {
   "cell_type": "markdown",
   "metadata": {},
   "source": [
    "## Import the relevant libraries"
   ]
  },
  {
   "cell_type": "code",
   "execution_count": 2,
   "metadata": {},
   "outputs": [],
   "source": [
    "import pandas as pd\n",
    "import matplotlib.pyplot as plt\n",
    "import numpy as np\n",
    "import seaborn as sns\n",
    "sns.set()\n",
    "from sklearn.cluster import KMeans"
   ]
  },
  {
   "cell_type": "markdown",
   "metadata": {},
   "source": [
    "## Load the data"
   ]
  },
  {
   "cell_type": "markdown",
   "metadata": {},
   "source": [
    "Load data from the csv file: <i> 'Categorical.csv'</i>."
   ]
  },
  {
   "cell_type": "code",
   "execution_count": 5,
   "metadata": {},
   "outputs": [
    {
     "data": {
      "text/html": [
       "<div>\n",
       "<style scoped>\n",
       "    .dataframe tbody tr th:only-of-type {\n",
       "        vertical-align: middle;\n",
       "    }\n",
       "\n",
       "    .dataframe tbody tr th {\n",
       "        vertical-align: top;\n",
       "    }\n",
       "\n",
       "    .dataframe thead th {\n",
       "        text-align: right;\n",
       "    }\n",
       "</style>\n",
       "<table border=\"1\" class=\"dataframe\">\n",
       "  <thead>\n",
       "    <tr style=\"text-align: right;\">\n",
       "      <th></th>\n",
       "      <th>DS_GENERO</th>\n",
       "      <th>DS_OCUPACAO</th>\n",
       "      <th>DS_COR_RACA</th>\n",
       "      <th>DS_GRAU_INSTRUCAO</th>\n",
       "      <th>ST_DECLARAR_BENS</th>\n",
       "      <th>DS_SIT_TOT_TURNO</th>\n",
       "    </tr>\n",
       "  </thead>\n",
       "  <tbody>\n",
       "    <tr>\n",
       "      <th>0</th>\n",
       "      <td>MASCULINO</td>\n",
       "      <td>SERVIDOR PÚBLICO MUNICIPAL</td>\n",
       "      <td>PARDA</td>\n",
       "      <td>SUPERIOR COMPLETO</td>\n",
       "      <td>S</td>\n",
       "      <td>SUPLENTE</td>\n",
       "    </tr>\n",
       "    <tr>\n",
       "      <th>1</th>\n",
       "      <td>MASCULINO</td>\n",
       "      <td>SERVIDOR PÚBLICO MUNICIPAL</td>\n",
       "      <td>PRETA</td>\n",
       "      <td>ENSINO MÉDIO COMPLETO</td>\n",
       "      <td>S</td>\n",
       "      <td>SUPLENTE</td>\n",
       "    </tr>\n",
       "    <tr>\n",
       "      <th>2</th>\n",
       "      <td>MASCULINO</td>\n",
       "      <td>OUTROS</td>\n",
       "      <td>PARDA</td>\n",
       "      <td>ENSINO MÉDIO INCOMPLETO</td>\n",
       "      <td>S</td>\n",
       "      <td>NÃO ELEITO</td>\n",
       "    </tr>\n",
       "    <tr>\n",
       "      <th>3</th>\n",
       "      <td>MASCULINO</td>\n",
       "      <td>OUTROS</td>\n",
       "      <td>BRANCA</td>\n",
       "      <td>ENSINO MÉDIO COMPLETO</td>\n",
       "      <td>S</td>\n",
       "      <td>SUPLENTE</td>\n",
       "    </tr>\n",
       "    <tr>\n",
       "      <th>4</th>\n",
       "      <td>FEMININO</td>\n",
       "      <td>AGRICULTOR</td>\n",
       "      <td>PRETA</td>\n",
       "      <td>ENSINO MÉDIO COMPLETO</td>\n",
       "      <td>S</td>\n",
       "      <td>SUPLENTE</td>\n",
       "    </tr>\n",
       "    <tr>\n",
       "      <th>...</th>\n",
       "      <td>...</td>\n",
       "      <td>...</td>\n",
       "      <td>...</td>\n",
       "      <td>...</td>\n",
       "      <td>...</td>\n",
       "      <td>...</td>\n",
       "    </tr>\n",
       "    <tr>\n",
       "      <th>9003</th>\n",
       "      <td>MASCULINO</td>\n",
       "      <td>ODONTÓLOGO</td>\n",
       "      <td>PARDA</td>\n",
       "      <td>SUPERIOR COMPLETO</td>\n",
       "      <td>S</td>\n",
       "      <td>ELEITO POR QP</td>\n",
       "    </tr>\n",
       "    <tr>\n",
       "      <th>9004</th>\n",
       "      <td>MASCULINO</td>\n",
       "      <td>VEREADOR</td>\n",
       "      <td>PARDA</td>\n",
       "      <td>ENSINO MÉDIO COMPLETO</td>\n",
       "      <td>S</td>\n",
       "      <td>SUPLENTE</td>\n",
       "    </tr>\n",
       "    <tr>\n",
       "      <th>9005</th>\n",
       "      <td>MASCULINO</td>\n",
       "      <td>ESTUDANTE, BOLSISTA, ESTAGIÁRIO E ASSEMELHADOS</td>\n",
       "      <td>BRANCA</td>\n",
       "      <td>SUPERIOR INCOMPLETO</td>\n",
       "      <td>S</td>\n",
       "      <td>NÃO ELEITO</td>\n",
       "    </tr>\n",
       "    <tr>\n",
       "      <th>9006</th>\n",
       "      <td>MASCULINO</td>\n",
       "      <td>AGRICULTOR</td>\n",
       "      <td>BRANCA</td>\n",
       "      <td>ENSINO FUNDAMENTAL INCOMPLETO</td>\n",
       "      <td>S</td>\n",
       "      <td>SUPLENTE</td>\n",
       "    </tr>\n",
       "    <tr>\n",
       "      <th>9007</th>\n",
       "      <td>MASCULINO</td>\n",
       "      <td>ADMINISTRADOR</td>\n",
       "      <td>PARDA</td>\n",
       "      <td>SUPERIOR COMPLETO</td>\n",
       "      <td>S</td>\n",
       "      <td>NÃO ELEITO</td>\n",
       "    </tr>\n",
       "  </tbody>\n",
       "</table>\n",
       "<p>9008 rows × 6 columns</p>\n",
       "</div>"
      ],
      "text/plain": [
       "      DS_GENERO                                     DS_OCUPACAO DS_COR_RACA  \\\n",
       "0     MASCULINO                      SERVIDOR PÚBLICO MUNICIPAL       PARDA   \n",
       "1     MASCULINO                      SERVIDOR PÚBLICO MUNICIPAL       PRETA   \n",
       "2     MASCULINO                                          OUTROS       PARDA   \n",
       "3     MASCULINO                                          OUTROS      BRANCA   \n",
       "4      FEMININO                                      AGRICULTOR       PRETA   \n",
       "...         ...                                             ...         ...   \n",
       "9003  MASCULINO                                      ODONTÓLOGO       PARDA   \n",
       "9004  MASCULINO                                        VEREADOR       PARDA   \n",
       "9005  MASCULINO  ESTUDANTE, BOLSISTA, ESTAGIÁRIO E ASSEMELHADOS      BRANCA   \n",
       "9006  MASCULINO                                      AGRICULTOR      BRANCA   \n",
       "9007  MASCULINO                                   ADMINISTRADOR       PARDA   \n",
       "\n",
       "                  DS_GRAU_INSTRUCAO ST_DECLARAR_BENS DS_SIT_TOT_TURNO  \n",
       "0                 SUPERIOR COMPLETO                S         SUPLENTE  \n",
       "1             ENSINO MÉDIO COMPLETO                S         SUPLENTE  \n",
       "2           ENSINO MÉDIO INCOMPLETO                S       NÃO ELEITO  \n",
       "3             ENSINO MÉDIO COMPLETO                S         SUPLENTE  \n",
       "4             ENSINO MÉDIO COMPLETO                S         SUPLENTE  \n",
       "...                             ...              ...              ...  \n",
       "9003              SUPERIOR COMPLETO                S    ELEITO POR QP  \n",
       "9004          ENSINO MÉDIO COMPLETO                S         SUPLENTE  \n",
       "9005            SUPERIOR INCOMPLETO                S       NÃO ELEITO  \n",
       "9006  ENSINO FUNDAMENTAL INCOMPLETO                S         SUPLENTE  \n",
       "9007              SUPERIOR COMPLETO                S       NÃO ELEITO  \n",
       "\n",
       "[9008 rows x 6 columns]"
      ]
     },
     "execution_count": 5,
     "metadata": {},
     "output_type": "execute_result"
    }
   ],
   "source": [
    "data = pd.read_excel('dados nao supervisionados.xlsx')\n",
    "data.drop(columns='Unnamed: 0', inplace=True)\n",
    "data"
   ]
  },
  {
   "cell_type": "code",
   "execution_count": 7,
   "metadata": {},
   "outputs": [
    {
     "data": {
      "text/plain": [
       "SUPLENTE            5051\n",
       "NÃO ELEITO          2187\n",
       "ELEITO POR QP       1230\n",
       "ELEITO POR MÉDIA     371\n",
       "ELEITO               169\n",
       "Name: DS_SIT_TOT_TURNO, dtype: int64"
      ]
     },
     "execution_count": 7,
     "metadata": {},
     "output_type": "execute_result"
    }
   ],
   "source": [
    "data['DS_SIT_TOT_TURNO'].value_counts()"
   ]
  },
  {
   "cell_type": "markdown",
   "metadata": {},
   "source": [
    "## Map the data"
   ]
  },
  {
   "cell_type": "markdown",
   "metadata": {},
   "source": [
    "Use the <i>'continent'</i> category for this analysis."
   ]
  },
  {
   "cell_type": "code",
   "execution_count": 75,
   "metadata": {},
   "outputs": [
    {
     "data": {
      "text/html": [
       "<div>\n",
       "<style scoped>\n",
       "    .dataframe tbody tr th:only-of-type {\n",
       "        vertical-align: middle;\n",
       "    }\n",
       "\n",
       "    .dataframe tbody tr th {\n",
       "        vertical-align: top;\n",
       "    }\n",
       "\n",
       "    .dataframe thead th {\n",
       "        text-align: right;\n",
       "    }\n",
       "</style>\n",
       "<table border=\"1\" class=\"dataframe\">\n",
       "  <thead>\n",
       "    <tr style=\"text-align: right;\">\n",
       "      <th></th>\n",
       "      <th>DS_GENERO</th>\n",
       "      <th>DS_OCUPACAO</th>\n",
       "      <th>DS_COR_RACA</th>\n",
       "      <th>DS_GRAU_INSTRUCAO</th>\n",
       "      <th>ST_DECLARAR_BENS</th>\n",
       "      <th>DS_SIT_TOT_TURNO</th>\n",
       "    </tr>\n",
       "  </thead>\n",
       "  <tbody>\n",
       "    <tr>\n",
       "      <th>0</th>\n",
       "      <td>0</td>\n",
       "      <td>SERVIDOR PÚBLICO MUNICIPAL</td>\n",
       "      <td>0</td>\n",
       "      <td>SUPERIOR COMPLETO</td>\n",
       "      <td>S</td>\n",
       "      <td>0</td>\n",
       "    </tr>\n",
       "    <tr>\n",
       "      <th>1</th>\n",
       "      <td>0</td>\n",
       "      <td>SERVIDOR PÚBLICO MUNICIPAL</td>\n",
       "      <td>2</td>\n",
       "      <td>ENSINO MÉDIO COMPLETO</td>\n",
       "      <td>S</td>\n",
       "      <td>0</td>\n",
       "    </tr>\n",
       "    <tr>\n",
       "      <th>2</th>\n",
       "      <td>0</td>\n",
       "      <td>OUTROS</td>\n",
       "      <td>0</td>\n",
       "      <td>ENSINO MÉDIO INCOMPLETO</td>\n",
       "      <td>S</td>\n",
       "      <td>1</td>\n",
       "    </tr>\n",
       "    <tr>\n",
       "      <th>3</th>\n",
       "      <td>0</td>\n",
       "      <td>OUTROS</td>\n",
       "      <td>1</td>\n",
       "      <td>ENSINO MÉDIO COMPLETO</td>\n",
       "      <td>S</td>\n",
       "      <td>0</td>\n",
       "    </tr>\n",
       "    <tr>\n",
       "      <th>4</th>\n",
       "      <td>1</td>\n",
       "      <td>AGRICULTOR</td>\n",
       "      <td>2</td>\n",
       "      <td>ENSINO MÉDIO COMPLETO</td>\n",
       "      <td>S</td>\n",
       "      <td>0</td>\n",
       "    </tr>\n",
       "    <tr>\n",
       "      <th>...</th>\n",
       "      <td>...</td>\n",
       "      <td>...</td>\n",
       "      <td>...</td>\n",
       "      <td>...</td>\n",
       "      <td>...</td>\n",
       "      <td>...</td>\n",
       "    </tr>\n",
       "    <tr>\n",
       "      <th>9003</th>\n",
       "      <td>0</td>\n",
       "      <td>ODONTÓLOGO</td>\n",
       "      <td>0</td>\n",
       "      <td>SUPERIOR COMPLETO</td>\n",
       "      <td>S</td>\n",
       "      <td>2</td>\n",
       "    </tr>\n",
       "    <tr>\n",
       "      <th>9004</th>\n",
       "      <td>0</td>\n",
       "      <td>VEREADOR</td>\n",
       "      <td>0</td>\n",
       "      <td>ENSINO MÉDIO COMPLETO</td>\n",
       "      <td>S</td>\n",
       "      <td>0</td>\n",
       "    </tr>\n",
       "    <tr>\n",
       "      <th>9005</th>\n",
       "      <td>0</td>\n",
       "      <td>ESTUDANTE, BOLSISTA, ESTAGIÁRIO E ASSEMELHADOS</td>\n",
       "      <td>1</td>\n",
       "      <td>SUPERIOR INCOMPLETO</td>\n",
       "      <td>S</td>\n",
       "      <td>1</td>\n",
       "    </tr>\n",
       "    <tr>\n",
       "      <th>9006</th>\n",
       "      <td>0</td>\n",
       "      <td>AGRICULTOR</td>\n",
       "      <td>1</td>\n",
       "      <td>ENSINO FUNDAMENTAL INCOMPLETO</td>\n",
       "      <td>S</td>\n",
       "      <td>0</td>\n",
       "    </tr>\n",
       "    <tr>\n",
       "      <th>9007</th>\n",
       "      <td>0</td>\n",
       "      <td>ADMINISTRADOR</td>\n",
       "      <td>0</td>\n",
       "      <td>SUPERIOR COMPLETO</td>\n",
       "      <td>S</td>\n",
       "      <td>1</td>\n",
       "    </tr>\n",
       "  </tbody>\n",
       "</table>\n",
       "<p>9008 rows × 6 columns</p>\n",
       "</div>"
      ],
      "text/plain": [
       "      DS_GENERO                                     DS_OCUPACAO  DS_COR_RACA  \\\n",
       "0             0                      SERVIDOR PÚBLICO MUNICIPAL            0   \n",
       "1             0                      SERVIDOR PÚBLICO MUNICIPAL            2   \n",
       "2             0                                          OUTROS            0   \n",
       "3             0                                          OUTROS            1   \n",
       "4             1                                      AGRICULTOR            2   \n",
       "...         ...                                             ...          ...   \n",
       "9003          0                                      ODONTÓLOGO            0   \n",
       "9004          0                                        VEREADOR            0   \n",
       "9005          0  ESTUDANTE, BOLSISTA, ESTAGIÁRIO E ASSEMELHADOS            1   \n",
       "9006          0                                      AGRICULTOR            1   \n",
       "9007          0                                   ADMINISTRADOR            0   \n",
       "\n",
       "                  DS_GRAU_INSTRUCAO ST_DECLARAR_BENS  DS_SIT_TOT_TURNO  \n",
       "0                 SUPERIOR COMPLETO                S                 0  \n",
       "1             ENSINO MÉDIO COMPLETO                S                 0  \n",
       "2           ENSINO MÉDIO INCOMPLETO                S                 1  \n",
       "3             ENSINO MÉDIO COMPLETO                S                 0  \n",
       "4             ENSINO MÉDIO COMPLETO                S                 0  \n",
       "...                             ...              ...               ...  \n",
       "9003              SUPERIOR COMPLETO                S                 2  \n",
       "9004          ENSINO MÉDIO COMPLETO                S                 0  \n",
       "9005            SUPERIOR INCOMPLETO                S                 1  \n",
       "9006  ENSINO FUNDAMENTAL INCOMPLETO                S                 0  \n",
       "9007              SUPERIOR COMPLETO                S                 1  \n",
       "\n",
       "[9008 rows x 6 columns]"
      ]
     },
     "execution_count": 75,
     "metadata": {},
     "output_type": "execute_result"
    }
   ],
   "source": [
    "data_mapped = data.copy()\n",
    "data_mapped['DS_SIT_TOT_TURNO'] = data_mapped['DS_SIT_TOT_TURNO'].map({'SUPLENTE':0,'NÃO ELEITO':1,'ELEITO POR QP':2,'ELEITO POR MÉDIA':2,'ELEITO':2})\n",
    "data_mapped['DS_GENERO'] = data_mapped['DS_GENERO'].map({'MASCULINO':0, 'FEMININO':1})\n",
    "data_mapped['DS_COR_RACA'] = data_mapped['DS_COR_RACA'].map({'PARDA':0, 'BRANCA':1, 'PRETA':2, 'AMARELA':3, 'INDÍGENA':4,'SEM INFORMAÇÃO':5})\n",
    "data_mapped"
   ]
  },
  {
   "cell_type": "code",
   "execution_count": 76,
   "metadata": {},
   "outputs": [],
   "source": [
    "data_mapped['DS_GRAU_INSTRUCAO']= data_mapped['DS_GRAU_INSTRUCAO'].map({'ENSINO MÉDIO COMPLETO':0, 'SUPERIOR COMPLETO':1, 'ENSINO FUNDAMENTAL INCOMPLETO':2, 'ENSINO FUNDAMENTAL COMPLETO':3, 'ENSINO MÉDIO INCOMPLETO':4,'SUPERIOR INCOMPLETO':5, 'LÊ E ESCREVE':6})"
   ]
  },
  {
   "cell_type": "code",
   "execution_count": 78,
   "metadata": {},
   "outputs": [
    {
     "data": {
      "text/plain": [
       "OUTROS                        1535\n",
       "AGRICULTOR                    1083\n",
       "VEREADOR                       762\n",
       "SERVIDOR PÚBLICO MUNICIPAL     592\n",
       "COMERCIANTE                    570\n",
       "                              ... \n",
       "BOMBEIRO MILITAR                 1\n",
       "ARQUEÓLOGO                       1\n",
       "AGENTE DE VIAGEM                 1\n",
       "CHAVEIRO                         1\n",
       "TERAPEUTA                        1\n",
       "Name: DS_OCUPACAO, Length: 167, dtype: int64"
      ]
     },
     "execution_count": 78,
     "metadata": {},
     "output_type": "execute_result"
    }
   ],
   "source": [
    "data_mapped['DS_OCUPACAO'].value_counts()"
   ]
  },
  {
   "cell_type": "markdown",
   "metadata": {},
   "source": [
    "## Select the features"
   ]
  },
  {
   "cell_type": "code",
   "execution_count": 13,
   "metadata": {},
   "outputs": [
    {
     "data": {
      "text/html": [
       "<div>\n",
       "<style scoped>\n",
       "    .dataframe tbody tr th:only-of-type {\n",
       "        vertical-align: middle;\n",
       "    }\n",
       "\n",
       "    .dataframe tbody tr th {\n",
       "        vertical-align: top;\n",
       "    }\n",
       "\n",
       "    .dataframe thead th {\n",
       "        text-align: right;\n",
       "    }\n",
       "</style>\n",
       "<table border=\"1\" class=\"dataframe\">\n",
       "  <thead>\n",
       "    <tr style=\"text-align: right;\">\n",
       "      <th></th>\n",
       "      <th>DS_SIT_TOT_TURNO</th>\n",
       "    </tr>\n",
       "  </thead>\n",
       "  <tbody>\n",
       "    <tr>\n",
       "      <th>0</th>\n",
       "      <td>0</td>\n",
       "    </tr>\n",
       "    <tr>\n",
       "      <th>1</th>\n",
       "      <td>0</td>\n",
       "    </tr>\n",
       "    <tr>\n",
       "      <th>2</th>\n",
       "      <td>1</td>\n",
       "    </tr>\n",
       "    <tr>\n",
       "      <th>3</th>\n",
       "      <td>0</td>\n",
       "    </tr>\n",
       "    <tr>\n",
       "      <th>4</th>\n",
       "      <td>0</td>\n",
       "    </tr>\n",
       "    <tr>\n",
       "      <th>...</th>\n",
       "      <td>...</td>\n",
       "    </tr>\n",
       "    <tr>\n",
       "      <th>9003</th>\n",
       "      <td>2</td>\n",
       "    </tr>\n",
       "    <tr>\n",
       "      <th>9004</th>\n",
       "      <td>0</td>\n",
       "    </tr>\n",
       "    <tr>\n",
       "      <th>9005</th>\n",
       "      <td>1</td>\n",
       "    </tr>\n",
       "    <tr>\n",
       "      <th>9006</th>\n",
       "      <td>0</td>\n",
       "    </tr>\n",
       "    <tr>\n",
       "      <th>9007</th>\n",
       "      <td>1</td>\n",
       "    </tr>\n",
       "  </tbody>\n",
       "</table>\n",
       "<p>9008 rows × 1 columns</p>\n",
       "</div>"
      ],
      "text/plain": [
       "      DS_SIT_TOT_TURNO\n",
       "0                    0\n",
       "1                    0\n",
       "2                    1\n",
       "3                    0\n",
       "4                    0\n",
       "...                ...\n",
       "9003                 2\n",
       "9004                 0\n",
       "9005                 1\n",
       "9006                 0\n",
       "9007                 1\n",
       "\n",
       "[9008 rows x 1 columns]"
      ]
     },
     "execution_count": 13,
     "metadata": {},
     "output_type": "execute_result"
    }
   ],
   "source": [
    "x = data_mapped.iloc[:,5:6]\n",
    "#x = data_mapped['DS_SIT_TOT_TURNO']\n",
    "x"
   ]
  },
  {
   "cell_type": "markdown",
   "metadata": {},
   "source": [
    "## Clustering"
   ]
  },
  {
   "cell_type": "markdown",
   "metadata": {},
   "source": [
    "Use 4 clusters initially."
   ]
  },
  {
   "cell_type": "code",
   "execution_count": 14,
   "metadata": {
    "scrolled": true
   },
   "outputs": [
    {
     "data": {
      "text/plain": [
       "KMeans(algorithm='auto', copy_x=True, init='k-means++', max_iter=300,\n",
       "       n_clusters=3, n_init=10, n_jobs=None, precompute_distances='auto',\n",
       "       random_state=None, tol=0.0001, verbose=0)"
      ]
     },
     "execution_count": 14,
     "metadata": {},
     "output_type": "execute_result"
    }
   ],
   "source": [
    "kmeans = KMeans(3)\n",
    "kmeans.fit(x)"
   ]
  },
  {
   "cell_type": "markdown",
   "metadata": {},
   "source": [
    "## Clustering results"
   ]
  },
  {
   "cell_type": "code",
   "execution_count": 15,
   "metadata": {},
   "outputs": [
    {
     "data": {
      "text/plain": [
       "array([0, 0, 1, ..., 1, 0, 1], dtype=int32)"
      ]
     },
     "execution_count": 15,
     "metadata": {},
     "output_type": "execute_result"
    }
   ],
   "source": [
    "identified_clusters = kmeans.fit_predict(x)\n",
    "identified_clusters"
   ]
  },
  {
   "cell_type": "code",
   "execution_count": 16,
   "metadata": {
    "scrolled": true
   },
   "outputs": [
    {
     "data": {
      "text/html": [
       "<div>\n",
       "<style scoped>\n",
       "    .dataframe tbody tr th:only-of-type {\n",
       "        vertical-align: middle;\n",
       "    }\n",
       "\n",
       "    .dataframe tbody tr th {\n",
       "        vertical-align: top;\n",
       "    }\n",
       "\n",
       "    .dataframe thead th {\n",
       "        text-align: right;\n",
       "    }\n",
       "</style>\n",
       "<table border=\"1\" class=\"dataframe\">\n",
       "  <thead>\n",
       "    <tr style=\"text-align: right;\">\n",
       "      <th></th>\n",
       "      <th>DS_GENERO</th>\n",
       "      <th>DS_OCUPACAO</th>\n",
       "      <th>DS_COR_RACA</th>\n",
       "      <th>DS_GRAU_INSTRUCAO</th>\n",
       "      <th>ST_DECLARAR_BENS</th>\n",
       "      <th>DS_SIT_TOT_TURNO</th>\n",
       "      <th>Clusters</th>\n",
       "    </tr>\n",
       "  </thead>\n",
       "  <tbody>\n",
       "    <tr>\n",
       "      <th>0</th>\n",
       "      <td>MASCULINO</td>\n",
       "      <td>SERVIDOR PÚBLICO MUNICIPAL</td>\n",
       "      <td>PARDA</td>\n",
       "      <td>SUPERIOR COMPLETO</td>\n",
       "      <td>S</td>\n",
       "      <td>SUPLENTE</td>\n",
       "      <td>0</td>\n",
       "    </tr>\n",
       "    <tr>\n",
       "      <th>1</th>\n",
       "      <td>MASCULINO</td>\n",
       "      <td>SERVIDOR PÚBLICO MUNICIPAL</td>\n",
       "      <td>PRETA</td>\n",
       "      <td>ENSINO MÉDIO COMPLETO</td>\n",
       "      <td>S</td>\n",
       "      <td>SUPLENTE</td>\n",
       "      <td>0</td>\n",
       "    </tr>\n",
       "    <tr>\n",
       "      <th>2</th>\n",
       "      <td>MASCULINO</td>\n",
       "      <td>OUTROS</td>\n",
       "      <td>PARDA</td>\n",
       "      <td>ENSINO MÉDIO INCOMPLETO</td>\n",
       "      <td>S</td>\n",
       "      <td>NÃO ELEITO</td>\n",
       "      <td>1</td>\n",
       "    </tr>\n",
       "    <tr>\n",
       "      <th>3</th>\n",
       "      <td>MASCULINO</td>\n",
       "      <td>OUTROS</td>\n",
       "      <td>BRANCA</td>\n",
       "      <td>ENSINO MÉDIO COMPLETO</td>\n",
       "      <td>S</td>\n",
       "      <td>SUPLENTE</td>\n",
       "      <td>0</td>\n",
       "    </tr>\n",
       "    <tr>\n",
       "      <th>4</th>\n",
       "      <td>FEMININO</td>\n",
       "      <td>AGRICULTOR</td>\n",
       "      <td>PRETA</td>\n",
       "      <td>ENSINO MÉDIO COMPLETO</td>\n",
       "      <td>S</td>\n",
       "      <td>SUPLENTE</td>\n",
       "      <td>0</td>\n",
       "    </tr>\n",
       "    <tr>\n",
       "      <th>...</th>\n",
       "      <td>...</td>\n",
       "      <td>...</td>\n",
       "      <td>...</td>\n",
       "      <td>...</td>\n",
       "      <td>...</td>\n",
       "      <td>...</td>\n",
       "      <td>...</td>\n",
       "    </tr>\n",
       "    <tr>\n",
       "      <th>9003</th>\n",
       "      <td>MASCULINO</td>\n",
       "      <td>ODONTÓLOGO</td>\n",
       "      <td>PARDA</td>\n",
       "      <td>SUPERIOR COMPLETO</td>\n",
       "      <td>S</td>\n",
       "      <td>ELEITO POR QP</td>\n",
       "      <td>2</td>\n",
       "    </tr>\n",
       "    <tr>\n",
       "      <th>9004</th>\n",
       "      <td>MASCULINO</td>\n",
       "      <td>VEREADOR</td>\n",
       "      <td>PARDA</td>\n",
       "      <td>ENSINO MÉDIO COMPLETO</td>\n",
       "      <td>S</td>\n",
       "      <td>SUPLENTE</td>\n",
       "      <td>0</td>\n",
       "    </tr>\n",
       "    <tr>\n",
       "      <th>9005</th>\n",
       "      <td>MASCULINO</td>\n",
       "      <td>ESTUDANTE, BOLSISTA, ESTAGIÁRIO E ASSEMELHADOS</td>\n",
       "      <td>BRANCA</td>\n",
       "      <td>SUPERIOR INCOMPLETO</td>\n",
       "      <td>S</td>\n",
       "      <td>NÃO ELEITO</td>\n",
       "      <td>1</td>\n",
       "    </tr>\n",
       "    <tr>\n",
       "      <th>9006</th>\n",
       "      <td>MASCULINO</td>\n",
       "      <td>AGRICULTOR</td>\n",
       "      <td>BRANCA</td>\n",
       "      <td>ENSINO FUNDAMENTAL INCOMPLETO</td>\n",
       "      <td>S</td>\n",
       "      <td>SUPLENTE</td>\n",
       "      <td>0</td>\n",
       "    </tr>\n",
       "    <tr>\n",
       "      <th>9007</th>\n",
       "      <td>MASCULINO</td>\n",
       "      <td>ADMINISTRADOR</td>\n",
       "      <td>PARDA</td>\n",
       "      <td>SUPERIOR COMPLETO</td>\n",
       "      <td>S</td>\n",
       "      <td>NÃO ELEITO</td>\n",
       "      <td>1</td>\n",
       "    </tr>\n",
       "  </tbody>\n",
       "</table>\n",
       "<p>9008 rows × 7 columns</p>\n",
       "</div>"
      ],
      "text/plain": [
       "      DS_GENERO                                     DS_OCUPACAO DS_COR_RACA  \\\n",
       "0     MASCULINO                      SERVIDOR PÚBLICO MUNICIPAL       PARDA   \n",
       "1     MASCULINO                      SERVIDOR PÚBLICO MUNICIPAL       PRETA   \n",
       "2     MASCULINO                                          OUTROS       PARDA   \n",
       "3     MASCULINO                                          OUTROS      BRANCA   \n",
       "4      FEMININO                                      AGRICULTOR       PRETA   \n",
       "...         ...                                             ...         ...   \n",
       "9003  MASCULINO                                      ODONTÓLOGO       PARDA   \n",
       "9004  MASCULINO                                        VEREADOR       PARDA   \n",
       "9005  MASCULINO  ESTUDANTE, BOLSISTA, ESTAGIÁRIO E ASSEMELHADOS      BRANCA   \n",
       "9006  MASCULINO                                      AGRICULTOR      BRANCA   \n",
       "9007  MASCULINO                                   ADMINISTRADOR       PARDA   \n",
       "\n",
       "                  DS_GRAU_INSTRUCAO ST_DECLARAR_BENS DS_SIT_TOT_TURNO  \\\n",
       "0                 SUPERIOR COMPLETO                S         SUPLENTE   \n",
       "1             ENSINO MÉDIO COMPLETO                S         SUPLENTE   \n",
       "2           ENSINO MÉDIO INCOMPLETO                S       NÃO ELEITO   \n",
       "3             ENSINO MÉDIO COMPLETO                S         SUPLENTE   \n",
       "4             ENSINO MÉDIO COMPLETO                S         SUPLENTE   \n",
       "...                             ...              ...              ...   \n",
       "9003              SUPERIOR COMPLETO                S    ELEITO POR QP   \n",
       "9004          ENSINO MÉDIO COMPLETO                S         SUPLENTE   \n",
       "9005            SUPERIOR INCOMPLETO                S       NÃO ELEITO   \n",
       "9006  ENSINO FUNDAMENTAL INCOMPLETO                S         SUPLENTE   \n",
       "9007              SUPERIOR COMPLETO                S       NÃO ELEITO   \n",
       "\n",
       "      Clusters  \n",
       "0            0  \n",
       "1            0  \n",
       "2            1  \n",
       "3            0  \n",
       "4            0  \n",
       "...        ...  \n",
       "9003         2  \n",
       "9004         0  \n",
       "9005         1  \n",
       "9006         0  \n",
       "9007         1  \n",
       "\n",
       "[9008 rows x 7 columns]"
      ]
     },
     "execution_count": 16,
     "metadata": {},
     "output_type": "execute_result"
    }
   ],
   "source": [
    "data_with_clusters = data.copy()\n",
    "data_with_clusters['Clusters'] = identified_clusters\n",
    "data_with_clusters"
   ]
  },
  {
   "cell_type": "code",
   "execution_count": 18,
   "metadata": {},
   "outputs": [
    {
     "data": {
      "text/plain": [
       "PARDA             4415\n",
       "BRANCA            3684\n",
       "PRETA              784\n",
       "SEM INFORMAÇÃO      87\n",
       "AMARELA             29\n",
       "INDÍGENA             9\n",
       "Name: DS_COR_RACA, dtype: int64"
      ]
     },
     "execution_count": 18,
     "metadata": {},
     "output_type": "execute_result"
    }
   ],
   "source": [
    "data['DS_COR_RACA'].value_counts()"
   ]
  },
  {
   "cell_type": "markdown",
   "metadata": {},
   "source": [
    "## Plot the data"
   ]
  },
  {
   "cell_type": "code",
   "execution_count": 66,
   "metadata": {},
   "outputs": [
    {
     "data": {
      "text/plain": [
       "<function matplotlib.pyplot.show(*args, **kw)>"
      ]
     },
     "execution_count": 66,
     "metadata": {},
     "output_type": "execute_result"
    },
    {
     "data": {
      "image/png": "[encoded data removed]",
      "text/plain": [
       "<Figure size 432x288 with 1 Axes>"
      ]
     },
     "metadata": {},
     "output_type": "display_data"
    }
   ],
   "source": [
    "plt.scatter(data['DS_GENERO'], data['DS_COR_RACA'],c=data_with_clusters['Clusters'],cmap='rainbow')\n",
    "plt.scatter(kmeans.cluster_centers_[:,0], kmeans.cluster_centers_[:,0], c='black')\n",
    "plt.xlim(-1,3)\n",
    "plt.ylim(-1,8)\n",
    "plt.show"
   ]
  },
  {
   "cell_type": "code",
   "execution_count": 68,
   "metadata": {},
   "outputs": [
    {
     "data": {
      "text/plain": [
       "array([[-8.0380147e-14],\n",
       "       [ 1.0000000e+00],\n",
       "       [ 2.0000000e+00]])"
      ]
     },
     "execution_count": 68,
     "metadata": {},
     "output_type": "execute_result"
    }
   ],
   "source": [
    "kmeans.cluster_centers_"
   ]
  },
  {
   "cell_type": "markdown",
   "metadata": {},
   "source": [
    "Since you already have all the code necessary, go back and play around with the number of clusters. Try 3, 7 and 8 and see if the results match your expectations. "
   ]
  },
  {
   "cell_type": "markdown",
   "metadata": {},
   "source": [
    "Simply go back to the beggining of the <b> Clustering </b> section and change <i> kmeans = KMeans(4) </i> to <i> kmeans = KMeans(3) </i>. Then run the remaining cells until the end."
   ]
  }
 ],
 "metadata": {
  "kernelspec": {
   "display_name": "Python 3",
   "language": "python",
   "name": "python3"
  },
  "language_info": {
   "codemirror_mode": {
    "name": "ipython",
    "version": 3
   },
   "file_extension": ".py",
   "mimetype": "text/x-python",
   "name": "python",
   "nbconvert_exporter": "python",
   "pygments_lexer": "ipython3",
   "version": "3.7.6"
  }
 },
 "nbformat": 4,
 "nbformat_minor": 4
}
